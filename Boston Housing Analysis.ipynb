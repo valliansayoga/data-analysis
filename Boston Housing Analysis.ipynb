{
 "cells": [
  {
   "cell_type": "markdown",
   "id": "001bcf3f-b271-4ed5-a175-28ce97d213d3",
   "metadata": {},
   "source": [
    "# Statistical & hypothesis testing on Boston Housing price\n",
    "**By Vallian Sayoga**"
   ]
  },
  {
   "cell_type": "code",
   "execution_count": 1,
   "id": "f9a4a3ec-41dc-4fd4-84e3-b73ef4cbb052",
   "metadata": {},
   "outputs": [],
   "source": [
    "import pandas as pd\n",
    "import matplotlib.pyplot as plt\n",
    "import seaborn as sns\n",
    "import scipy.stats\n",
    "import statsmodels.api as sm\n",
    "import numpy as np"
   ]
  },
  {
   "cell_type": "code",
   "execution_count": 2,
   "id": "58949985-6fc8-495c-bca5-5c744483f8d2",
   "metadata": {},
   "outputs": [],
   "source": [
    "sns.set_theme(font='JetBrains Mono')"
   ]
  },
  {
   "cell_type": "code",
   "execution_count": 3,
   "id": "b5e1b495-cedb-42f6-98ff-ba70b6ba18dc",
   "metadata": {},
   "outputs": [
    {
     "data": {
      "text/html": [
       "<div>\n",
       "<style scoped>\n",
       "    .dataframe tbody tr th:only-of-type {\n",
       "        vertical-align: middle;\n",
       "    }\n",
       "\n",
       "    .dataframe tbody tr th {\n",
       "        vertical-align: top;\n",
       "    }\n",
       "\n",
       "    .dataframe thead th {\n",
       "        text-align: right;\n",
       "    }\n",
       "</style>\n",
       "<table border=\"1\" class=\"dataframe\">\n",
       "  <thead>\n",
       "    <tr style=\"text-align: right;\">\n",
       "      <th></th>\n",
       "      <th>CRIM</th>\n",
       "      <th>ZN</th>\n",
       "      <th>INDUS</th>\n",
       "      <th>CHAS</th>\n",
       "      <th>NOX</th>\n",
       "      <th>RM</th>\n",
       "      <th>AGE</th>\n",
       "      <th>DIS</th>\n",
       "      <th>RAD</th>\n",
       "      <th>TAX</th>\n",
       "      <th>PTRATIO</th>\n",
       "      <th>LSTAT</th>\n",
       "      <th>MEDV</th>\n",
       "    </tr>\n",
       "  </thead>\n",
       "  <tbody>\n",
       "    <tr>\n",
       "      <th>0</th>\n",
       "      <td>0.00632</td>\n",
       "      <td>18.0</td>\n",
       "      <td>2.31</td>\n",
       "      <td>0.0</td>\n",
       "      <td>0.538</td>\n",
       "      <td>6.575</td>\n",
       "      <td>65.2</td>\n",
       "      <td>4.0900</td>\n",
       "      <td>1.0</td>\n",
       "      <td>296.0</td>\n",
       "      <td>15.3</td>\n",
       "      <td>4.98</td>\n",
       "      <td>24.0</td>\n",
       "    </tr>\n",
       "    <tr>\n",
       "      <th>1</th>\n",
       "      <td>0.02731</td>\n",
       "      <td>0.0</td>\n",
       "      <td>7.07</td>\n",
       "      <td>0.0</td>\n",
       "      <td>0.469</td>\n",
       "      <td>6.421</td>\n",
       "      <td>78.9</td>\n",
       "      <td>4.9671</td>\n",
       "      <td>2.0</td>\n",
       "      <td>242.0</td>\n",
       "      <td>17.8</td>\n",
       "      <td>9.14</td>\n",
       "      <td>21.6</td>\n",
       "    </tr>\n",
       "    <tr>\n",
       "      <th>2</th>\n",
       "      <td>0.02729</td>\n",
       "      <td>0.0</td>\n",
       "      <td>7.07</td>\n",
       "      <td>0.0</td>\n",
       "      <td>0.469</td>\n",
       "      <td>7.185</td>\n",
       "      <td>61.1</td>\n",
       "      <td>4.9671</td>\n",
       "      <td>2.0</td>\n",
       "      <td>242.0</td>\n",
       "      <td>17.8</td>\n",
       "      <td>4.03</td>\n",
       "      <td>34.7</td>\n",
       "    </tr>\n",
       "    <tr>\n",
       "      <th>3</th>\n",
       "      <td>0.03237</td>\n",
       "      <td>0.0</td>\n",
       "      <td>2.18</td>\n",
       "      <td>0.0</td>\n",
       "      <td>0.458</td>\n",
       "      <td>6.998</td>\n",
       "      <td>45.8</td>\n",
       "      <td>6.0622</td>\n",
       "      <td>3.0</td>\n",
       "      <td>222.0</td>\n",
       "      <td>18.7</td>\n",
       "      <td>2.94</td>\n",
       "      <td>33.4</td>\n",
       "    </tr>\n",
       "    <tr>\n",
       "      <th>4</th>\n",
       "      <td>0.06905</td>\n",
       "      <td>0.0</td>\n",
       "      <td>2.18</td>\n",
       "      <td>0.0</td>\n",
       "      <td>0.458</td>\n",
       "      <td>7.147</td>\n",
       "      <td>54.2</td>\n",
       "      <td>6.0622</td>\n",
       "      <td>3.0</td>\n",
       "      <td>222.0</td>\n",
       "      <td>18.7</td>\n",
       "      <td>5.33</td>\n",
       "      <td>36.2</td>\n",
       "    </tr>\n",
       "  </tbody>\n",
       "</table>\n",
       "</div>"
      ],
      "text/plain": [
       "      CRIM    ZN  INDUS  CHAS    NOX     RM   AGE     DIS  RAD    TAX  \\\n",
       "0  0.00632  18.0   2.31   0.0  0.538  6.575  65.2  4.0900  1.0  296.0   \n",
       "1  0.02731   0.0   7.07   0.0  0.469  6.421  78.9  4.9671  2.0  242.0   \n",
       "2  0.02729   0.0   7.07   0.0  0.469  7.185  61.1  4.9671  2.0  242.0   \n",
       "3  0.03237   0.0   2.18   0.0  0.458  6.998  45.8  6.0622  3.0  222.0   \n",
       "4  0.06905   0.0   2.18   0.0  0.458  7.147  54.2  6.0622  3.0  222.0   \n",
       "\n",
       "   PTRATIO  LSTAT  MEDV  \n",
       "0     15.3   4.98  24.0  \n",
       "1     17.8   9.14  21.6  \n",
       "2     17.8   4.03  34.7  \n",
       "3     18.7   2.94  33.4  \n",
       "4     18.7   5.33  36.2  "
      ]
     },
     "execution_count": 3,
     "metadata": {},
     "output_type": "execute_result"
    }
   ],
   "source": [
    "df = pd.read_csv('https://cf-courses-data.s3.us.cloud-object-storage.appdomain.cloud/IBMDeveloperSkillsNetwork-ST0151EN-SkillsNetwork/labs/boston_housing.csv')\n",
    "df.drop(\"Unnamed: 0\", axis=1, inplace=True)\n",
    "df.head()"
   ]
  },
  {
   "cell_type": "markdown",
   "id": "62a6f500-7a6c-4a08-8eda-ce0c6e3133b2",
   "metadata": {},
   "source": [
    "* **CRIM** - per capita crime rate by town\n",
    "* **ZN** - proportion of residential land zoned for lots over 25,000 sq.ft.\n",
    "* **INDUS** - proportion of non-retail business acres per town.\n",
    "* **CHAS** - Charles River dummy variable (1 if tract bounds river; 0 otherwise)\n",
    "* **NOX** - nitric oxides concentration (parts per 10 million)\n",
    "* **RM** - average number of rooms per dwelling\n",
    "* **AGE** - proportion of owner-occupied units built prior to 1940\n",
    "* **DIS** - weighted distances to five Boston employment centres\n",
    "* **RAD** - index of accessibility to radial highways\n",
    "* **TAX** - full-value property-tax rate per USD10,000\n",
    "* **PTRATIO** - pupil-teacher ratio by town\n",
    "* **LSTAT** - % lower status of the population\n",
    "* **MEDV** - Median value of owner-occupied homes in $1000's"
   ]
  },
  {
   "cell_type": "markdown",
   "id": "61f73d12-8388-4e0b-9712-ebac009217c2",
   "metadata": {},
   "source": [
    "# Task 1. Median value of owner-occupied homes"
   ]
  },
  {
   "cell_type": "code",
   "execution_count": 4,
   "id": "b3135608-5490-4ab2-ae17-c3c782bc2e8a",
   "metadata": {},
   "outputs": [
    {
     "data": {
      "image/png": "[encoded data removed]",
      "text/plain": [
       "<Figure size 432x288 with 1 Axes>"
      ]
     },
     "metadata": {
      "needs_background": "light"
     },
     "output_type": "display_data"
    },
    {
     "name": "stdout",
     "output_type": "stream",
     "text": [
      "The median is 21.2\n"
     ]
    }
   ],
   "source": [
    "sns.boxplot(x=df.MEDV)\n",
    "plt.title(\"Median value of owner-occupied homes\")\n",
    "plt.show()\n",
    "\n",
    "print(f\"The median is {df.MEDV.median()}\")"
   ]
  },
  {
   "cell_type": "markdown",
   "id": "982b0762-2991-4ac5-a0c1-c2134caee797",
   "metadata": {},
   "source": [
    "# Task 2. Bar plot for the Charles river variable"
   ]
  },
  {
   "cell_type": "code",
   "execution_count": 5,
   "id": "bd795d25-d415-4f9c-a1da-0f4cc82f84a7",
   "metadata": {},
   "outputs": [
    {
     "data": {
      "image/png": "[encoded data removed]",
      "text/plain": [
       "<Figure size 432x288 with 1 Axes>"
      ]
     },
     "metadata": {
      "needs_background": "light"
     },
     "output_type": "display_data"
    }
   ],
   "source": [
    "df['CHAS'] = df['CHAS'].astype(int)\n",
    "CHAS_count = df.CHAS.value_counts()\n",
    "sns.countplot(x=df['CHAS'])\n",
    "plt.ylim(0,550)\n",
    "plt.title(\"Bar plot for the Charles river variable\")\n",
    "\n",
    "for i, v in CHAS_count.iteritems():\n",
    "    plt.text(i, v + 10, v, fontdict=dict(horizontalalignment='center', verticalalignment='center', weight='bold'))\n",
    "# plt.text(1, CHAS_count[1] + 10, CHAS_count[1], fontdict=dict(horizontalalignment='center', verticalalignment='center',))\n",
    "plt.xticks(np.arange(2), [\"Tracts Bound\", \"Not bound\"])\n",
    "plt.show()"
   ]
  },
  {
   "cell_type": "markdown",
   "id": "4bf9821d-cbf2-4a3b-9d68-d9c447fad7ca",
   "metadata": {},
   "source": [
    "# Task 3. Boxplot for the MEDV variable vs the AGE variable\n",
    "Comparing between:\n",
    "* 35 < AGE < 70* AGE <= 35\n",
    "* 35 < AGE < 70\n",
    "* AGE >= 70"
   ]
  },
  {
   "cell_type": "code",
   "execution_count": 25,
   "id": "37a69966-8081-4f17-820f-d6df8495589a",
   "metadata": {},
   "outputs": [
    {
     "data": {
      "image/png": "[encoded data removed]",
      "text/plain": [
       "<Figure size 432x288 with 1 Axes>"
      ]
     },
     "metadata": {
      "needs_background": "light"
     },
     "output_type": "display_data"
    }
   ],
   "source": [
    "# Let's split the AGE into 3 groups\n",
    "df.loc[df.AGE <= 35, 'age_group'] = 'AGE <= 35'\n",
    "df.loc[(df.AGE > 35) & (df.AGE < 70), 'age_group'] = '35 < AGE < 70'\n",
    "df.loc[df.AGE >= 70, 'age_group'] = 'AGE >= 70'\n",
    "\n",
    "ax = sns.boxplot(x='age_group', y='MEDV', data=df)\n",
    "ax.set(title='MEDV of 3 different age groups boxplots', xlabel='Age Groups')\n",
    "plt.show()"
   ]
  },
  {
   "cell_type": "markdown",
   "id": "e2676a22-2289-4743-a9a5-9f031c34ca36",
   "metadata": {},
   "source": [
    "# Task 4. Scatter plot to show the relationship between Nitric oxide concentrations and the proportion of non-retail business acres per town"
   ]
  },
  {
   "cell_type": "code",
   "execution_count": 6,
   "id": "856300c6-7594-4413-a785-fcde4f428da7",
   "metadata": {},
   "outputs": [
    {
     "data": {
      "image/png": "[encoded data removed]",
      "text/plain": [
       "<Figure size 432x288 with 1 Axes>"
      ]
     },
     "metadata": {
      "needs_background": "light"
     },
     "output_type": "display_data"
    }
   ],
   "source": [
    "ax = sns.scatterplot(x=df.NOX, y=df.INDUS, color='crimson')\n",
    "ax.set(\n",
    "    xlabel=\"Nitric Oxide Concentration\",\n",
    "    ylabel=\"Non-retail business acres / town\",\n",
    "    title=\"Nitric oxide conc vs Non-retail business\"\n",
    ")\n",
    "plt.show()"
   ]
  },
  {
   "cell_type": "markdown",
   "id": "09c59144-31ba-4c90-8ab3-1812495fe0ca",
   "metadata": {},
   "source": [
    "It shows positive trend that the higher the NOX, the higher non-retail business"
   ]
  },
  {
   "cell_type": "markdown",
   "id": "806dcb45-db14-49f6-8331-708f62dc1647",
   "metadata": {},
   "source": [
    "# Task 5. Histogram for the pupil to teacher ratio variable"
   ]
  },
  {
   "cell_type": "code",
   "execution_count": 7,
   "id": "acb91d0b-9899-4937-a21a-9f8f6f22c78b",
   "metadata": {},
   "outputs": [
    {
     "data": {
      "image/png": "[encoded data removed]",
      "text/plain": [
       "<Figure size 432x288 with 1 Axes>"
      ]
     },
     "metadata": {
      "needs_background": "light"
     },
     "output_type": "display_data"
    }
   ],
   "source": [
    "ax = sns.histplot(x=df.PTRATIO, color='crimson')\n",
    "ax.set(\n",
    "    title='Pupil to teacher ratio histogram',\n",
    "    xlabel='Ratio'\n",
    ")\n",
    "plt.show()"
   ]
  },
  {
   "cell_type": "markdown",
   "id": "fbe8b2f6-316a-4648-86fb-fe6d80a467a5",
   "metadata": {},
   "source": [
    "# Task 6. Is there a significant difference in median value of houses bounded by the Charles river or not?\n",
    "* T-test for independent samples\n",
    "* H0: There's no difference in median\n",
    "* H1: There's a difference in median\n",
    "* α: 0.05"
   ]
  },
  {
   "cell_type": "code",
   "execution_count": 8,
   "id": "2edcda3a-e20e-4f32-ac5e-00ea75518de5",
   "metadata": {},
   "outputs": [
    {
     "name": "stdout",
     "output_type": "stream",
     "text": [
      "There's a difference in variance with pvalue (0.003238119367639829) < α\n"
     ]
    }
   ],
   "source": [
    "# Check variance uniformity\n",
    "_, pvalue = scipy.stats.levene(\n",
    "    df.loc[df.CHAS == 0, 'MEDV'],\n",
    "    df.loc[df.CHAS == 1, 'MEDV'],\n",
    "    center='mean'\n",
    ")\n",
    "print(f\"There's a difference in variance with pvalue ({pvalue}) < α\")"
   ]
  },
  {
   "cell_type": "code",
   "execution_count": 9,
   "id": "5b263335-268e-44a9-9480-53e2d14310d1",
   "metadata": {},
   "outputs": [
    {
     "name": "stdout",
     "output_type": "stream",
     "text": [
      "H1: There's a difference in median with pvalue (0.003567170098137517) < α\n"
     ]
    }
   ],
   "source": [
    "_, pvalue = scipy.stats.ttest_ind(\n",
    "    df.loc[df.CHAS == 0, 'MEDV'],\n",
    "    df.loc[df.CHAS == 1, 'MEDV'],\n",
    "    equal_var=False  # Because the variance was not equal based on previous test\n",
    ")\n",
    "print(f\"H1: There's a difference in median with pvalue ({pvalue}) < α\")"
   ]
  },
  {
   "cell_type": "markdown",
   "id": "a7eb9759-bab6-4e2a-ad35-7f187484455d",
   "metadata": {},
   "source": [
    "# Task 7. Is there a difference in Median values of houses (MEDV) for each proportion of owner occupied units built prior to 1940 (AGE)?\n",
    "* ANOVA\n",
    "* H0: There's no difference in median for each proportion of owner occupied units built prior to 1940 (AGE < 1940) vs (AGE >= 1940)\n",
    "* H1: There's a difference in median for each proportion of owner occupied units built prior to 1940\n",
    "* α: 0.05\n",
    "\n",
    "Comparing between:\n",
    "* AGE <= 35\n",
    "* 35 < AGE < 70\n",
    "* AGE >= 70"
   ]
  },
  {
   "cell_type": "code",
   "execution_count": 28,
   "id": "c2196d50-beb7-44bd-ab6d-6143b6876391",
   "metadata": {},
   "outputs": [],
   "source": [
    "# Let's create the variables\n",
    "zero_thirtyfive = df.loc[df.AGE <= 35, 'MEDV']\n",
    "above_thirtyfive_seventy = df.loc[(df.AGE > 35) & (df.AGE < 70), 'MEDV']\n",
    "above_seventy = df.loc[df.AGE >= 70, 'MEDV']"
   ]
  },
  {
   "cell_type": "code",
   "execution_count": 29,
   "id": "a3017bbf-99d3-4547-856a-70961e3445cb",
   "metadata": {},
   "outputs": [
    {
     "name": "stdout",
     "output_type": "stream",
     "text": [
      "H1: There's a difference in median for each proportion of owner occupied units built prior to 1940 with pvalue (1.7105011022702984e-15) < α\n"
     ]
    }
   ],
   "source": [
    "_, pvalue = scipy.stats.f_oneway(\n",
    "    zero_thirtyfive,\n",
    "    above_thirtyfive_seventy,\n",
    "    above_seventy,\n",
    ")\n",
    "print(f\"H1: There's a difference in median for each proportion of owner occupied units built prior to 1940 with pvalue ({pvalue}) < α\")"
   ]
  },
  {
   "cell_type": "markdown",
   "id": "94affca1-6e46-4419-88e0-f53e8f7a58e8",
   "metadata": {},
   "source": [
    "# Task 8. Can we conclude that there is no relationship between Nitric oxide concentrations and proportion of non-retail business acres per town?\n",
    "* PearsonR\n",
    "* H0: There's no correlation between NOX & non retail business\n",
    "* H1: There's a correlation between NOX & non retail business\n",
    "* α: 0.05"
   ]
  },
  {
   "cell_type": "code",
   "execution_count": 12,
   "id": "2535504e-890f-46e0-8217-7fd2a29a9307",
   "metadata": {},
   "outputs": [
    {
     "name": "stdout",
     "output_type": "stream",
     "text": [
      "H1: There's a correlation between NOX & non retail business with pvalue (1.7105011022702984e-15) < α\n"
     ]
    }
   ],
   "source": [
    "x = df['NOX']\n",
    "y = df['INDUS']\n",
    "scipy.stats.pearsonr(x, y)\n",
    "print(f\"H1: There's a correlation between NOX & non retail business with pvalue ({pvalue}) < α\")"
   ]
  },
  {
   "cell_type": "markdown",
   "id": "a25118f8-9a5a-41be-8313-ba12c3e70c84",
   "metadata": {},
   "source": [
    "# Task 9. What is the impact of an additional weighted distance to the five Boston employment centres on the median value of owner occupied homes?\n",
    "* Regression\n",
    "* H0: an additional DIS has no impact on MEDV\n",
    "* H1: an additional DIS has impact on MEDV\n",
    "* α: 0.05"
   ]
  },
  {
   "cell_type": "code",
   "execution_count": 13,
   "id": "543ecd49-bed3-4040-9de4-2319cf5c134b",
   "metadata": {},
   "outputs": [
    {
     "data": {
      "text/html": [
       "<table class=\"simpletable\">\n",
       "<caption>OLS Regression Results</caption>\n",
       "<tr>\n",
       "  <th>Dep. Variable:</th>          <td>MEDV</td>       <th>  R-squared:         </th> <td>   0.062</td>\n",
       "</tr>\n",
       "<tr>\n",
       "  <th>Model:</th>                   <td>OLS</td>       <th>  Adj. R-squared:    </th> <td>   0.061</td>\n",
       "</tr>\n",
       "<tr>\n",
       "  <th>Method:</th>             <td>Least Squares</td>  <th>  F-statistic:       </th> <td>   33.58</td>\n",
       "</tr>\n",
       "<tr>\n",
       "  <th>Date:</th>             <td>Mon, 16 May 2022</td> <th>  Prob (F-statistic):</th> <td>1.21e-08</td>\n",
       "</tr>\n",
       "<tr>\n",
       "  <th>Time:</th>                 <td>10:56:15</td>     <th>  Log-Likelihood:    </th> <td> -1823.9</td>\n",
       "</tr>\n",
       "<tr>\n",
       "  <th>No. Observations:</th>      <td>   506</td>      <th>  AIC:               </th> <td>   3652.</td>\n",
       "</tr>\n",
       "<tr>\n",
       "  <th>Df Residuals:</th>          <td>   504</td>      <th>  BIC:               </th> <td>   3660.</td>\n",
       "</tr>\n",
       "<tr>\n",
       "  <th>Df Model:</th>              <td>     1</td>      <th>                     </th>     <td> </td>   \n",
       "</tr>\n",
       "<tr>\n",
       "  <th>Covariance Type:</th>      <td>nonrobust</td>    <th>                     </th>     <td> </td>   \n",
       "</tr>\n",
       "</table>\n",
       "<table class=\"simpletable\">\n",
       "<tr>\n",
       "    <td></td>       <th>coef</th>     <th>std err</th>      <th>t</th>      <th>P>|t|</th>  <th>[0.025</th>    <th>0.975]</th>  \n",
       "</tr>\n",
       "<tr>\n",
       "  <th>const</th> <td>   18.3901</td> <td>    0.817</td> <td>   22.499</td> <td> 0.000</td> <td>   16.784</td> <td>   19.996</td>\n",
       "</tr>\n",
       "<tr>\n",
       "  <th>DIS</th>   <td>    1.0916</td> <td>    0.188</td> <td>    5.795</td> <td> 0.000</td> <td>    0.722</td> <td>    1.462</td>\n",
       "</tr>\n",
       "</table>\n",
       "<table class=\"simpletable\">\n",
       "<tr>\n",
       "  <th>Omnibus:</th>       <td>139.779</td> <th>  Durbin-Watson:     </th> <td>   0.570</td>\n",
       "</tr>\n",
       "<tr>\n",
       "  <th>Prob(Omnibus):</th> <td> 0.000</td>  <th>  Jarque-Bera (JB):  </th> <td> 305.104</td>\n",
       "</tr>\n",
       "<tr>\n",
       "  <th>Skew:</th>          <td> 1.466</td>  <th>  Prob(JB):          </th> <td>5.59e-67</td>\n",
       "</tr>\n",
       "<tr>\n",
       "  <th>Kurtosis:</th>      <td> 5.424</td>  <th>  Cond. No.          </th> <td>    9.32</td>\n",
       "</tr>\n",
       "</table><br/><br/>Notes:<br/>[1] Standard Errors assume that the covariance matrix of the errors is correctly specified."
      ],
      "text/plain": [
       "<class 'statsmodels.iolib.summary.Summary'>\n",
       "\"\"\"\n",
       "                            OLS Regression Results                            \n",
       "==============================================================================\n",
       "Dep. Variable:                   MEDV   R-squared:                       0.062\n",
       "Model:                            OLS   Adj. R-squared:                  0.061\n",
       "Method:                 Least Squares   F-statistic:                     33.58\n",
       "Date:                Mon, 16 May 2022   Prob (F-statistic):           1.21e-08\n",
       "Time:                        10:56:15   Log-Likelihood:                -1823.9\n",
       "No. Observations:                 506   AIC:                             3652.\n",
       "Df Residuals:                     504   BIC:                             3660.\n",
       "Df Model:                           1                                         \n",
       "Covariance Type:            nonrobust                                         \n",
       "==============================================================================\n",
       "                 coef    std err          t      P>|t|      [0.025      0.975]\n",
       "------------------------------------------------------------------------------\n",
       "const         18.3901      0.817     22.499      0.000      16.784      19.996\n",
       "DIS            1.0916      0.188      5.795      0.000       0.722       1.462\n",
       "==============================================================================\n",
       "Omnibus:                      139.779   Durbin-Watson:                   0.570\n",
       "Prob(Omnibus):                  0.000   Jarque-Bera (JB):              305.104\n",
       "Skew:                           1.466   Prob(JB):                     5.59e-67\n",
       "Kurtosis:                       5.424   Cond. No.                         9.32\n",
       "==============================================================================\n",
       "\n",
       "Notes:\n",
       "[1] Standard Errors assume that the covariance matrix of the errors is correctly specified.\n",
       "\"\"\""
      ]
     },
     "execution_count": 13,
     "metadata": {},
     "output_type": "execute_result"
    }
   ],
   "source": [
    "x = df['DIS']\n",
    "x = sm.add_constant(x)\n",
    "y = df['MEDV']\n",
    "\n",
    "model = sm.OLS(y, x).fit()\n",
    "prediction = model.predict(x)\n",
    "model.summary()"
   ]
  },
  {
   "cell_type": "markdown",
   "id": "7f3f5edf-96c1-4c98-bbc1-239584ff44cd",
   "metadata": {},
   "source": [
    "* H1: an additional DIS has impact on MEDV with pvalue (0.000) < α\n",
    "* an additional `DIS` affects 1.0916 more values on `MEDV`"
   ]
  }
 ],
 "metadata": {
  "kernelspec": {
   "display_name": "Python 3 (ipykernel)",
   "language": "python",
   "name": "python3"
  },
  "language_info": {
   "codemirror_mode": {
    "name": "ipython",
    "version": 3
   },
   "file_extension": ".py",
   "mimetype": "text/x-python",
   "name": "python",
   "nbconvert_exporter": "python",
   "pygments_lexer": "ipython3",
   "version": "3.10.4"
  }
 },
 "nbformat": 4,
 "nbformat_minor": 5
}
