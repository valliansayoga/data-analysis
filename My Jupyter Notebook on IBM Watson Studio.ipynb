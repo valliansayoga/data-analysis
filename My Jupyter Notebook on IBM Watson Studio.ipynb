{
 "cells": [
  {
   "cell_type": "markdown",
   "metadata": {},
   "source": [
    "# My Jupyter Notebook on IBM Watson Studio"
   ]
  },
  {
   "cell_type": "markdown",
   "metadata": {},
   "source": [
    "**Vallian Sayoga**\n",
    "\n",
    "Current occupation: IT Officer Development Program"
   ]
  },
  {
   "cell_type": "markdown",
   "metadata": {},
   "source": [
    "*I am interested in data science because I think this is a great field to build my career. I have always been drawn into IT field and I found that Python was interesting also it has been used for data analysis / science.*"
   ]
  },
  {
   "cell_type": "markdown",
   "metadata": {},
   "source": [
    "### Code below prints out a short introduction of me"
   ]
  },
  {
   "cell_type": "code",
   "execution_count": 1,
   "metadata": {},
   "outputs": [
    {
     "name": "stdout",
     "output_type": "stream",
     "text": [
      "Hello my name is Vallian Sayoga, I am from Indonesia and my occupation is IT Apprentice at an Indonesian local bank\n"
     ]
    }
   ],
   "source": [
    "name = 'Vallian Sayoga'\n",
    "origin = 'Indonesia'\n",
    "job = 'IT Apprentice'\n",
    "\n",
    "print(\n",
    "    f'Hello my name is {name}, I am from {origin} and my occupation is {job} at an Indonesian local bank'\n",
    ")"
   ]
  },
  {
   "cell_type": "markdown",
   "metadata": {},
   "source": [
    "<center>This is the fifth cell</center>\n",
    "\n",
    "---\n",
    "\n",
    "I am learning data science on\n",
    "\n",
    "![alt text](https://upload.wikimedia.org/wikipedia/commons/9/97/Coursera-Logo_600x600.svg \"Coursera\")\n",
    "\n",
    "And currently I am learning [Tools for Data Science](https://www.coursera.org/learn/open-source-tools-for-data-science?)"
   ]
  }
 ],
 "metadata": {
  "kernelspec": {
   "display_name": "Python 3 (ipykernel)",
   "language": "python",
   "name": "python3"
  },
  "language_info": {
   "codemirror_mode": {
    "name": "ipython",
    "version": 3
   },
   "file_extension": ".py",
   "mimetype": "text/x-python",
   "name": "python",
   "nbconvert_exporter": "python",
   "pygments_lexer": "ipython3",
   "version": "3.10.2"
  }
 },
 "nbformat": 4,
 "nbformat_minor": 4
}
